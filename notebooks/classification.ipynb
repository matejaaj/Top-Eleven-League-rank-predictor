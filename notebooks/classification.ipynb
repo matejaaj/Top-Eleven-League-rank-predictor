{
 "cells": [
  {
   "cell_type": "code",
   "execution_count": 1,
   "metadata": {},
   "outputs": [],
   "source": [
    "from src.data_preprocessing import *\n",
    "\n",
    "df = load_data('../data/jobfair_train.csv')\n",
    "\n",
    "columns_to_normalize = [\n",
    "    'days_active_last_28_days', 'session_count_last_28_days',\n",
    "    'avg_stars_top_11_players']\n",
    "\n",
    "columns_to_drop = [\n",
    "    'morale_boosters_stash', 'rests_stash', 'tokens_stash', 'tokens_spent_last_28_days',\n",
    "    'avg_training_factor_top_11_players', 'avg_age_top_11_players',\n",
    "    'league_match_watched_count_last_28_days', 'global_competition_level',\n",
    "    'avg_stars_top_14_players', 'days_active_last_28_days', 'session_count_last_28_days',\n",
    "    'playtime_last_28_days', 'league_match_won_count_last_28_days', 'training_count_last_28_days',\n",
    "    'avg_stars_top_11_players', 'global_competition_level', 'club_id','cohort_season','season','dynamic_payment_segment', 'registration_country', 'registration_platform_specific'\n",
    "]\n",
    "\n",
    "df = preprocess_data(df, columns_to_normalize, columns_to_drop)"
   ]
  },
  {
   "cell_type": "code",
   "execution_count": 2,
   "metadata": {},
   "outputs": [
    {
     "name": "stdout",
     "output_type": "stream",
     "text": [
      "Varience: 93.6%\n"
     ]
    },
    {
     "data": {
      "application/vnd.plotly.v1+json": {
       "config": {
        "plotlyServerURL": "https://plot.ly"
       },
       "data": [
        {
         "hovertemplate": "x=%{x}<br>y=%{y}<br>color=%{marker.color}<extra></extra>",
         "legendgroup": "",
         "marker": {
          "color": [
           7,
           4,
           8,
           2,
           7,
           9,
           6,
           8,
           3,
           12,
           3,
           12,
           2,
           9,
           2,
           12,
           6,
           1,
           11,
           13,
           6,
           14,
           11,
           2,
           2,
           1,
           3,
           3,
           2,
           3,
           8,
           1,
           11,
           7,
           7,
           4,
           7,
           7,
           14,
           1,
           6,
           7,
           2,
           11,
           2,
           10,
           11,
           1,
           4,
           7,
           2,
           8,
           2,
           14,
           12,
           7,
           8,
           13,
           8,
           8,
           10,
           10,
           14,
           4,
           1,
           1,
           12,
           5,
           13,
           5,
           13,
           4,
           13,
           4,
           5,
           7,
           5,
           7,
           4,
           1,
           2,
           2,
           8,
           7,
           7,
           2,
           8,
           3,
           13,
           12,
           8,
           14,
           2,
           12,
           9,
           7,
           5,
           4,
           14,
           4,
           4,
           9,
           9,
           12,
           8,
           4,
           4,
           10,
           8,
           5,
           7,
           14,
           1,
           9,
           5,
           1,
           14,
           10,
           11,
           6,
           9,
           10,
           4,
           1,
           5,
           7,
           1,
           11,
           6,
           4,
           7,
           6,
           7,
           10,
           9,
           11,
           8,
           1,
           2,
           11,
           3,
           12,
           1,
           1,
           12,
           14,
           7,
           2,
           4,
           9,
           9,
           7,
           14,
           8,
           11,
           5,
           1,
           9,
           1,
           9,
           8,
           10,
           4,
           13,
           3,
           5,
           14,
           3,
           5,
           8,
           14,
           12,
           14,
           9,
           12,
           9,
           9,
           1,
           5,
           10,
           5,
           12,
           1,
           11,
           12,
           3,
           4,
           9,
           14,
           12,
           13,
           7,
           14,
           12,
           5,
           5,
           11,
           9,
           5,
           6
          ],
          "coloraxis": "coloraxis",
          "opacity": 0.6,
          "size": 10,
          "symbol": "circle"
         },
         "mode": "markers",
         "name": "",
         "orientation": "v",
         "showlegend": false,
         "type": "scatter",
         "x": [
          0.43599750561488526,
          1.8799271812249128,
          -0.34291588522189365,
          2.1864787341022716,
          -1.5235747272603977,
          -0.986403013263873,
          -0.3395014297542419,
          -1.7244801166371624,
          0.9693704945118108,
          0.7983528448124536,
          -0.20949306732847897,
          -2.2251053433296097,
          -0.2434957221472202,
          -1.1751727580088551,
          2.503253302299491,
          -2.3882847786220167,
          -0.6607041782352514,
          0.6100918096531222,
          -1.6671014563265747,
          -1.5767871903678066,
          0.2608682369600994,
          -2.1623343982379053,
          -1.7122068385702387,
          -0.39660591132710843,
          1.3153318794803588,
          2.0155614723951665,
          -0.013244086057420624,
          -0.31768452884114406,
          1.6809352067398082,
          0.4621589249507699,
          1.1739340600004067,
          3.6749100091762728,
          -0.350356378780373,
          -0.9556682232167036,
          -0.011374352639032075,
          1.8100650006247436,
          -0.8292571651092931,
          -0.36238625657985657,
          -0.9339260181101838,
          1.1642677053475765,
          -0.13368453601407046,
          0.19596559248339845,
          2.3298857469654783,
          0.3686865823725441,
          2.2873770865890517,
          -1.3401291929078736,
          -0.6938013697006407,
          1.0544321301323587,
          0.3925652045118949,
          0.7882891990955433,
          3.022178556218553,
          -0.27001381692585663,
          3.191020826739725,
          -0.1082515511789659,
          -1.1630960704306694,
          -0.5016738894583102,
          -0.7763704740628347,
          -1.475360054321973,
          0.026623704535722197,
          -0.511476338463529,
          0.9312660270353837,
          -0.22168294502859223,
          -0.7887025080004054,
          1.782817816481748,
          3.085510981999056,
          1.925563443741755,
          -0.7986554116360572,
          -0.23279995449163995,
          -1.450728138050354,
          0.5966982746762688,
          -1.6375196563964987,
          1.2152024488707738,
          -0.30417052791584126,
          2.195113895212584,
          1.0577551357076942,
          0.1907710935972694,
          1.2269400490352742,
          -0.5951298227484897,
          0.09316662036602509,
          0.968899888339364,
          2.1150929624021995,
          2.1331061216449414,
          -0.8825944721854488,
          0.7876009982235168,
          0.29828519114672203,
          1.4494036693284438,
          -1.4183127921284586,
          2.668917042539268,
          -1.3500883302921327,
          -1.521690067531051,
          -0.7076734147715463,
          -0.37320298832744697,
          2.581302664083261,
          -0.8172972889971729,
          -1.1871064477390576,
          -0.6321320734345117,
          -0.17956288636687678,
          -0.03404044941963735,
          -3.2200779160597737,
          -0.376636907252057,
          1.3607963388131095,
          -0.7276281941484548,
          -0.9021870397807126,
          -0.07610091730064408,
          -1.306700576697124,
          0.34384938999242953,
          0.9093941033858578,
          -1.8987422875945077,
          -0.7022154018738791,
          1.0448873172180624,
          -0.15156929798961064,
          -1.237619350150955,
          4.58697532549835,
          -0.4422955174128604,
          1.2404919642628085,
          3.5054262230758493,
          -1.6346290189011905,
          -1.0209224236615841,
          -1.2254132637815127,
          0.8494515592546074,
          -1.0077944325313906,
          -1.7520563697727323,
          -0.5687112508919889,
          2.2345511877814537,
          -0.8401942182022445,
          1.2197345453535893,
          2.562842038199495,
          -1.3293683381817065,
          0.24204226382278382,
          1.7386859399520465,
          1.1818865079301941,
          -0.24658549529571544,
          -0.022277974072653934,
          -0.8580701873594597,
          -1.3828095913596536,
          -1.6503463522594712,
          -1.6581269849297364,
          3.6121882190181474,
          2.281200769203077,
          -0.5157897236568716,
          0.3522115096718672,
          -1.3173274897398164,
          0.9108861650640144,
          5.63830012923788,
          -2.2857386391286654,
          -1.7075028439517712,
          -0.3441205663359339,
          2.1838215166413733,
          2.117251706445773,
          -0.6087500149541251,
          -0.7400567008816451,
          0.30122775534301893,
          -1.4416198098516118,
          -1.3546061816488564,
          -2.0715104304752283,
          1.0189241360676307,
          0.1317375764880873,
          -0.5681761151369061,
          3.117321978664355,
          -0.16244459100138417,
          -1.0503781075894503,
          -1.7827146535543055,
          1.3323341951117473,
          -1.683118908415623,
          1.5287044979689357,
          0.5783294981838232,
          -0.7340048001446509,
          1.1906633388535188,
          -0.7480446606822878,
          -0.03560972396293805,
          -1.6861442458586047,
          -2.2754792509370456,
          -1.362320177476084,
          -1.3134953353861247,
          -1.0204206979219503,
          0.5218598216807845,
          -1.598229425520186,
          2.2805461391777286,
          0.6341847229929676,
          -0.6775435302961803,
          0.317310423053087,
          -2.2009822748369117,
          2.318149851606273,
          -0.06970228971863103,
          -0.7074287687458964,
          1.8655347078930133,
          0.5086522397410395,
          -0.7981474059680949,
          -1.1967430136842596,
          -1.6248591260629002,
          -1.7364266713968939,
          0.3196891849012806,
          -3.2214780846423414,
          -1.8938819441097403,
          2.6879985982462564,
          2.332269393798731,
          0.158268469536798,
          0.5465050535122616,
          2.334998003979006,
          -0.5869591381839844
         ],
         "xaxis": "x",
         "y": [
          -0.9485692229371742,
          -0.13343711222845012,
          -0.1926730309746775,
          0.12411144280814354,
          0.36827557660302185,
          0.6878796387511545,
          -0.5355028930287125,
          0.3746131668784198,
          0.038239654156471535,
          -0.04213074751592818,
          -0.761195226501258,
          0.00371888260832707,
          -0.34757553135875124,
          -0.7973209738718215,
          -1.7663987557320204,
          0.7602494697248585,
          -0.14886947250923935,
          -0.5967831011686244,
          0.16711174889541958,
          -0.10308391984950095,
          -0.10367448379586507,
          1.1087169974426427,
          0.2565954113895367,
          -0.19571597232841273,
          0.4435625161050044,
          -0.2520064990667118,
          -0.9507042997730085,
          -0.9575493899569512,
          0.28158017847120614,
          -0.17203518097058634,
          0.22800810874084054,
          -1.2664855191235282,
          -0.8187578303799055,
          -0.8983490264398455,
          -0.419274734867255,
          -0.4267577538883904,
          -0.6592471688378486,
          0.2905417383698145,
          0.3338561505970608,
          -1.0963602475540108,
          -1.1135411092186718,
          0.5084630527356953,
          0.8485651623929488,
          -0.22899630625993114,
          -0.11429250104999349,
          -0.06683887748681223,
          0.40944994979656435,
          -3.0116811109262223,
          0.7490661446973169,
          -0.15584152443012747,
          0.942482915488115,
          0.1405532343990882,
          -0.5175476740746073,
          0.4473445297127331,
          0.9996144433459171,
          0.021288380970379477,
          -0.3320531927353222,
          0.003786521305661546,
          -0.31491423198804536,
          0.06995413503983418,
          0.7060602042718829,
          0.41409648523409326,
          0.4629540383866827,
          0.16177519097983295,
          -0.6653212672014004,
          -0.3535048065523267,
          0.5173961338926573,
          -0.27649943326929394,
          -1.325530683528777,
          -0.3484685378198927,
          0.34362364715861093,
          -0.48228476347920496,
          0.5285946217322512,
          0.14195439802057547,
          -0.2134113050490403,
          -0.11421365392362687,
          0.2919340680302777,
          -0.1158646747151048,
          -0.04948402218717569,
          -1.8838226709311878,
          -0.7295202944695991,
          -0.7722513534460802,
          -1.1683756832133285,
          0.6278024153421334,
          0.364549243478952,
          -0.5523255054070183,
          0.3124115118087223,
          0.9312760440319126,
          0.27079238730579347,
          0.8125664289283698,
          0.06054156097107238,
          -0.029188753345403575,
          0.060637885436914445,
          -0.4697418777501491,
          -0.18688503754255611,
          -0.19793941955456465,
          -1.07877591856354,
          -0.4994696907118674,
          -0.4101474614702317,
          -0.19586021348079127,
          0.05816584691252909,
          -0.705064718841976,
          -1.0948277766535572,
          0.46741514338561874,
          0.2333603011202927,
          0.3250304060400346,
          -0.20814196403938856,
          1.2980776813533257,
          -0.7585244021205366,
          -0.3757781847501463,
          0.14314898362529646,
          0.16183120772159143,
          -0.27248102376520883,
          -1.0119587886804164,
          0.4369867711776788,
          -1.050186691637795,
          0.5107881689434418,
          -0.07436777339280201,
          0.6391667468345609,
          -0.7352746098515112,
          0.050749834343617156,
          -0.04546480644909635,
          -0.4397402027433343,
          -0.07013930321611929,
          -0.277709111558772,
          -0.3531524616313571,
          0.11558041039947868,
          -0.48106961624800726,
          0.10322203896842128,
          0.7067417567675428,
          -0.5853026665812987,
          -0.3427614818589331,
          -0.3141974665070021,
          0.3161861010763347,
          -0.2480782854755092,
          -0.4647025531032396,
          -0.22467274782404167,
          0.05133609900356207,
          -0.22318391756898212,
          -0.26641974772705457,
          -0.3148948189289134,
          -0.2759395295067457,
          -0.5298330500934363,
          0.33272795076211087,
          -0.6918914551175577,
          -0.9962517907246369,
          -0.9157665715351204,
          0.27411879754895013,
          0.3706096220541104,
          0.7480550441477594,
          0.029150039068842913,
          0.21314027379691175,
          -0.02821629469417621,
          -0.5112652848000857,
          0.22681988742293635,
          0.024494298051869298,
          -1.7909364634789946,
          -1.1232124348537027,
          -0.5674726507573178,
          -0.47385799243274435,
          -0.546805035157791,
          0.2062215251746759,
          0.6578231041231452,
          -0.23494641044340647,
          -0.0066466693326777465,
          0.9965635834904649,
          -0.9963842839013662,
          -0.12201839413211814,
          -0.2164485103714655,
          -0.5327997312305678,
          0.861807011197873,
          -0.14895653136723605,
          0.009471931584646029,
          0.20460460740824185,
          -0.26796393426265913,
          1.3659965421484561,
          0.0747862135816265,
          -0.014423182892098345,
          -0.31091753753525253,
          0.29623925280355473,
          0.8653678018818757,
          0.02595655189394917,
          -1.9106948700360789,
          -0.34617430875262495,
          0.24583736739884576,
          -0.5749947994701207,
          0.3654016038103983,
          -0.2911041211655711,
          0.3916115471156672,
          0.09543926422497298,
          0.23664336038626577,
          -0.09862656139143723,
          -0.9226740089827538,
          0.6422125734085966,
          -0.3877546662939993,
          -0.08148007618916298,
          -0.9141588765045171,
          -0.9093269069533798,
          0.5494443696404948,
          0.959450418808211
         ],
         "yaxis": "y"
        }
       ],
       "layout": {
        "coloraxis": {
         "colorbar": {
          "title": {
           "text": "color"
          }
         },
         "colorscale": [
          [
           0,
           "rgb(103,0,31)"
          ],
          [
           0.1,
           "rgb(178,24,43)"
          ],
          [
           0.2,
           "rgb(214,96,77)"
          ],
          [
           0.3,
           "rgb(244,165,130)"
          ],
          [
           0.4,
           "rgb(253,219,199)"
          ],
          [
           0.5,
           "rgb(247,247,247)"
          ],
          [
           0.6,
           "rgb(209,229,240)"
          ],
          [
           0.7,
           "rgb(146,197,222)"
          ],
          [
           0.8,
           "rgb(67,147,195)"
          ],
          [
           0.9,
           "rgb(33,102,172)"
          ],
          [
           1,
           "rgb(5,48,97)"
          ]
         ]
        },
        "height": 600,
        "legend": {
         "tracegroupgap": 0
        },
        "margin": {
         "t": 60
        },
        "template": {
         "data": {
          "bar": [
           {
            "error_x": {
             "color": "#2a3f5f"
            },
            "error_y": {
             "color": "#2a3f5f"
            },
            "marker": {
             "line": {
              "color": "#E5ECF6",
              "width": 0.5
             },
             "pattern": {
              "fillmode": "overlay",
              "size": 10,
              "solidity": 0.2
             }
            },
            "type": "bar"
           }
          ],
          "barpolar": [
           {
            "marker": {
             "line": {
              "color": "#E5ECF6",
              "width": 0.5
             },
             "pattern": {
              "fillmode": "overlay",
              "size": 10,
              "solidity": 0.2
             }
            },
            "type": "barpolar"
           }
          ],
          "carpet": [
           {
            "aaxis": {
             "endlinecolor": "#2a3f5f",
             "gridcolor": "white",
             "linecolor": "white",
             "minorgridcolor": "white",
             "startlinecolor": "#2a3f5f"
            },
            "baxis": {
             "endlinecolor": "#2a3f5f",
             "gridcolor": "white",
             "linecolor": "white",
             "minorgridcolor": "white",
             "startlinecolor": "#2a3f5f"
            },
            "type": "carpet"
           }
          ],
          "choropleth": [
           {
            "colorbar": {
             "outlinewidth": 0,
             "ticks": ""
            },
            "type": "choropleth"
           }
          ],
          "contour": [
           {
            "colorbar": {
             "outlinewidth": 0,
             "ticks": ""
            },
            "colorscale": [
             [
              0,
              "#0d0887"
             ],
             [
              0.1111111111111111,
              "#46039f"
             ],
             [
              0.2222222222222222,
              "#7201a8"
             ],
             [
              0.3333333333333333,
              "#9c179e"
             ],
             [
              0.4444444444444444,
              "#bd3786"
             ],
             [
              0.5555555555555556,
              "#d8576b"
             ],
             [
              0.6666666666666666,
              "#ed7953"
             ],
             [
              0.7777777777777778,
              "#fb9f3a"
             ],
             [
              0.8888888888888888,
              "#fdca26"
             ],
             [
              1,
              "#f0f921"
             ]
            ],
            "type": "contour"
           }
          ],
          "contourcarpet": [
           {
            "colorbar": {
             "outlinewidth": 0,
             "ticks": ""
            },
            "type": "contourcarpet"
           }
          ],
          "heatmap": [
           {
            "colorbar": {
             "outlinewidth": 0,
             "ticks": ""
            },
            "colorscale": [
             [
              0,
              "#0d0887"
             ],
             [
              0.1111111111111111,
              "#46039f"
             ],
             [
              0.2222222222222222,
              "#7201a8"
             ],
             [
              0.3333333333333333,
              "#9c179e"
             ],
             [
              0.4444444444444444,
              "#bd3786"
             ],
             [
              0.5555555555555556,
              "#d8576b"
             ],
             [
              0.6666666666666666,
              "#ed7953"
             ],
             [
              0.7777777777777778,
              "#fb9f3a"
             ],
             [
              0.8888888888888888,
              "#fdca26"
             ],
             [
              1,
              "#f0f921"
             ]
            ],
            "type": "heatmap"
           }
          ],
          "heatmapgl": [
           {
            "colorbar": {
             "outlinewidth": 0,
             "ticks": ""
            },
            "colorscale": [
             [
              0,
              "#0d0887"
             ],
             [
              0.1111111111111111,
              "#46039f"
             ],
             [
              0.2222222222222222,
              "#7201a8"
             ],
             [
              0.3333333333333333,
              "#9c179e"
             ],
             [
              0.4444444444444444,
              "#bd3786"
             ],
             [
              0.5555555555555556,
              "#d8576b"
             ],
             [
              0.6666666666666666,
              "#ed7953"
             ],
             [
              0.7777777777777778,
              "#fb9f3a"
             ],
             [
              0.8888888888888888,
              "#fdca26"
             ],
             [
              1,
              "#f0f921"
             ]
            ],
            "type": "heatmapgl"
           }
          ],
          "histogram": [
           {
            "marker": {
             "pattern": {
              "fillmode": "overlay",
              "size": 10,
              "solidity": 0.2
             }
            },
            "type": "histogram"
           }
          ],
          "histogram2d": [
           {
            "colorbar": {
             "outlinewidth": 0,
             "ticks": ""
            },
            "colorscale": [
             [
              0,
              "#0d0887"
             ],
             [
              0.1111111111111111,
              "#46039f"
             ],
             [
              0.2222222222222222,
              "#7201a8"
             ],
             [
              0.3333333333333333,
              "#9c179e"
             ],
             [
              0.4444444444444444,
              "#bd3786"
             ],
             [
              0.5555555555555556,
              "#d8576b"
             ],
             [
              0.6666666666666666,
              "#ed7953"
             ],
             [
              0.7777777777777778,
              "#fb9f3a"
             ],
             [
              0.8888888888888888,
              "#fdca26"
             ],
             [
              1,
              "#f0f921"
             ]
            ],
            "type": "histogram2d"
           }
          ],
          "histogram2dcontour": [
           {
            "colorbar": {
             "outlinewidth": 0,
             "ticks": ""
            },
            "colorscale": [
             [
              0,
              "#0d0887"
             ],
             [
              0.1111111111111111,
              "#46039f"
             ],
             [
              0.2222222222222222,
              "#7201a8"
             ],
             [
              0.3333333333333333,
              "#9c179e"
             ],
             [
              0.4444444444444444,
              "#bd3786"
             ],
             [
              0.5555555555555556,
              "#d8576b"
             ],
             [
              0.6666666666666666,
              "#ed7953"
             ],
             [
              0.7777777777777778,
              "#fb9f3a"
             ],
             [
              0.8888888888888888,
              "#fdca26"
             ],
             [
              1,
              "#f0f921"
             ]
            ],
            "type": "histogram2dcontour"
           }
          ],
          "mesh3d": [
           {
            "colorbar": {
             "outlinewidth": 0,
             "ticks": ""
            },
            "type": "mesh3d"
           }
          ],
          "parcoords": [
           {
            "line": {
             "colorbar": {
              "outlinewidth": 0,
              "ticks": ""
             }
            },
            "type": "parcoords"
           }
          ],
          "pie": [
           {
            "automargin": true,
            "type": "pie"
           }
          ],
          "scatter": [
           {
            "fillpattern": {
             "fillmode": "overlay",
             "size": 10,
             "solidity": 0.2
            },
            "type": "scatter"
           }
          ],
          "scatter3d": [
           {
            "line": {
             "colorbar": {
              "outlinewidth": 0,
              "ticks": ""
             }
            },
            "marker": {
             "colorbar": {
              "outlinewidth": 0,
              "ticks": ""
             }
            },
            "type": "scatter3d"
           }
          ],
          "scattercarpet": [
           {
            "marker": {
             "colorbar": {
              "outlinewidth": 0,
              "ticks": ""
             }
            },
            "type": "scattercarpet"
           }
          ],
          "scattergeo": [
           {
            "marker": {
             "colorbar": {
              "outlinewidth": 0,
              "ticks": ""
             }
            },
            "type": "scattergeo"
           }
          ],
          "scattergl": [
           {
            "marker": {
             "colorbar": {
              "outlinewidth": 0,
              "ticks": ""
             }
            },
            "type": "scattergl"
           }
          ],
          "scattermapbox": [
           {
            "marker": {
             "colorbar": {
              "outlinewidth": 0,
              "ticks": ""
             }
            },
            "type": "scattermapbox"
           }
          ],
          "scatterpolar": [
           {
            "marker": {
             "colorbar": {
              "outlinewidth": 0,
              "ticks": ""
             }
            },
            "type": "scatterpolar"
           }
          ],
          "scatterpolargl": [
           {
            "marker": {
             "colorbar": {
              "outlinewidth": 0,
              "ticks": ""
             }
            },
            "type": "scatterpolargl"
           }
          ],
          "scatterternary": [
           {
            "marker": {
             "colorbar": {
              "outlinewidth": 0,
              "ticks": ""
             }
            },
            "type": "scatterternary"
           }
          ],
          "surface": [
           {
            "colorbar": {
             "outlinewidth": 0,
             "ticks": ""
            },
            "colorscale": [
             [
              0,
              "#0d0887"
             ],
             [
              0.1111111111111111,
              "#46039f"
             ],
             [
              0.2222222222222222,
              "#7201a8"
             ],
             [
              0.3333333333333333,
              "#9c179e"
             ],
             [
              0.4444444444444444,
              "#bd3786"
             ],
             [
              0.5555555555555556,
              "#d8576b"
             ],
             [
              0.6666666666666666,
              "#ed7953"
             ],
             [
              0.7777777777777778,
              "#fb9f3a"
             ],
             [
              0.8888888888888888,
              "#fdca26"
             ],
             [
              1,
              "#f0f921"
             ]
            ],
            "type": "surface"
           }
          ],
          "table": [
           {
            "cells": {
             "fill": {
              "color": "#EBF0F8"
             },
             "line": {
              "color": "white"
             }
            },
            "header": {
             "fill": {
              "color": "#C8D4E3"
             },
             "line": {
              "color": "white"
             }
            },
            "type": "table"
           }
          ]
         },
         "layout": {
          "annotationdefaults": {
           "arrowcolor": "#2a3f5f",
           "arrowhead": 0,
           "arrowwidth": 1
          },
          "autotypenumbers": "strict",
          "coloraxis": {
           "colorbar": {
            "outlinewidth": 0,
            "ticks": ""
           }
          },
          "colorscale": {
           "diverging": [
            [
             0,
             "#8e0152"
            ],
            [
             0.1,
             "#c51b7d"
            ],
            [
             0.2,
             "#de77ae"
            ],
            [
             0.3,
             "#f1b6da"
            ],
            [
             0.4,
             "#fde0ef"
            ],
            [
             0.5,
             "#f7f7f7"
            ],
            [
             0.6,
             "#e6f5d0"
            ],
            [
             0.7,
             "#b8e186"
            ],
            [
             0.8,
             "#7fbc41"
            ],
            [
             0.9,
             "#4d9221"
            ],
            [
             1,
             "#276419"
            ]
           ],
           "sequential": [
            [
             0,
             "#0d0887"
            ],
            [
             0.1111111111111111,
             "#46039f"
            ],
            [
             0.2222222222222222,
             "#7201a8"
            ],
            [
             0.3333333333333333,
             "#9c179e"
            ],
            [
             0.4444444444444444,
             "#bd3786"
            ],
            [
             0.5555555555555556,
             "#d8576b"
            ],
            [
             0.6666666666666666,
             "#ed7953"
            ],
            [
             0.7777777777777778,
             "#fb9f3a"
            ],
            [
             0.8888888888888888,
             "#fdca26"
            ],
            [
             1,
             "#f0f921"
            ]
           ],
           "sequentialminus": [
            [
             0,
             "#0d0887"
            ],
            [
             0.1111111111111111,
             "#46039f"
            ],
            [
             0.2222222222222222,
             "#7201a8"
            ],
            [
             0.3333333333333333,
             "#9c179e"
            ],
            [
             0.4444444444444444,
             "#bd3786"
            ],
            [
             0.5555555555555556,
             "#d8576b"
            ],
            [
             0.6666666666666666,
             "#ed7953"
            ],
            [
             0.7777777777777778,
             "#fb9f3a"
            ],
            [
             0.8888888888888888,
             "#fdca26"
            ],
            [
             1,
             "#f0f921"
            ]
           ]
          },
          "colorway": [
           "#636efa",
           "#EF553B",
           "#00cc96",
           "#ab63fa",
           "#FFA15A",
           "#19d3f3",
           "#FF6692",
           "#B6E880",
           "#FF97FF",
           "#FECB52"
          ],
          "font": {
           "color": "#2a3f5f"
          },
          "geo": {
           "bgcolor": "white",
           "lakecolor": "white",
           "landcolor": "#E5ECF6",
           "showlakes": true,
           "showland": true,
           "subunitcolor": "white"
          },
          "hoverlabel": {
           "align": "left"
          },
          "hovermode": "closest",
          "mapbox": {
           "style": "light"
          },
          "paper_bgcolor": "white",
          "plot_bgcolor": "#E5ECF6",
          "polar": {
           "angularaxis": {
            "gridcolor": "white",
            "linecolor": "white",
            "ticks": ""
           },
           "bgcolor": "#E5ECF6",
           "radialaxis": {
            "gridcolor": "white",
            "linecolor": "white",
            "ticks": ""
           }
          },
          "scene": {
           "xaxis": {
            "backgroundcolor": "#E5ECF6",
            "gridcolor": "white",
            "gridwidth": 2,
            "linecolor": "white",
            "showbackground": true,
            "ticks": "",
            "zerolinecolor": "white"
           },
           "yaxis": {
            "backgroundcolor": "#E5ECF6",
            "gridcolor": "white",
            "gridwidth": 2,
            "linecolor": "white",
            "showbackground": true,
            "ticks": "",
            "zerolinecolor": "white"
           },
           "zaxis": {
            "backgroundcolor": "#E5ECF6",
            "gridcolor": "white",
            "gridwidth": 2,
            "linecolor": "white",
            "showbackground": true,
            "ticks": "",
            "zerolinecolor": "white"
           }
          },
          "shapedefaults": {
           "line": {
            "color": "#2a3f5f"
           }
          },
          "ternary": {
           "aaxis": {
            "gridcolor": "white",
            "linecolor": "white",
            "ticks": ""
           },
           "baxis": {
            "gridcolor": "white",
            "linecolor": "white",
            "ticks": ""
           },
           "bgcolor": "#E5ECF6",
           "caxis": {
            "gridcolor": "white",
            "linecolor": "white",
            "ticks": ""
           }
          },
          "title": {
           "x": 0.05
          },
          "xaxis": {
           "automargin": true,
           "gridcolor": "white",
           "linecolor": "white",
           "ticks": "",
           "title": {
            "standoff": 15
           },
           "zerolinecolor": "white",
           "zerolinewidth": 2
          },
          "yaxis": {
           "automargin": true,
           "gridcolor": "white",
           "linecolor": "white",
           "ticks": "",
           "title": {
            "standoff": 15
           },
           "zerolinecolor": "white",
           "zerolinewidth": 2
          }
         }
        },
        "title": {
         "text": "Principal components visualisations"
        },
        "width": 700,
        "xaxis": {
         "anchor": "y",
         "domain": [
          0,
          1
         ],
         "title": {
          "text": "PC1"
         }
        },
        "yaxis": {
         "anchor": "x",
         "domain": [
          0,
          1
         ],
         "title": {
          "text": "PC2"
         }
        }
       }
      }
     },
     "metadata": {},
     "output_type": "display_data"
    }
   ],
   "source": [
    "from src.models import *\n",
    "from src.utils import *\n",
    "\n",
    "pca_model, principal_components = getPcaModel(df, n_components=2, random_state=42)\n",
    "\n",
    "print(f'Varience: {sum(pca_model.explained_variance_ratio_) * 100:.1f}%')\n",
    "visualize_principal_components(principal_components, n_principal_components=2, target_col=df['league_rank'], n_samples=200)\n"
   ]
  },
  {
   "cell_type": "code",
   "execution_count": 3,
   "metadata": {},
   "outputs": [],
   "source": [
    "X_train, X_test, y_train, y_test = league_test_split(df, test_size=0.2, random_state=42)"
   ]
  },
  {
   "cell_type": "code",
   "execution_count": 4,
   "metadata": {},
   "outputs": [],
   "source": [
    "model_rf = getRandomForestClassifier(X_train, y_train)\n",
    "predictions_rf = model_rf.predict(X_test)"
   ]
  },
  {
   "cell_type": "code",
   "execution_count": 5,
   "metadata": {},
   "outputs": [],
   "source": [
    "model_mlp = getMLPClassifier(X_train, y_train)\n",
    "predictions_mlp = model_mlp.predict(scale(X_test))\n"
   ]
  },
  {
   "cell_type": "code",
   "execution_count": 6,
   "metadata": {},
   "outputs": [
    {
     "name": "stdout",
     "output_type": "stream",
     "text": [
      "Model: MLPClassifier\n",
      "Accuracy: 0.2023\n"
     ]
    },
    {
     "data": {
      "image/png": "[encoded data removed]",
      "text/plain": [
       "<Figure size 640x480 with 1 Axes>"
      ]
     },
     "metadata": {},
     "output_type": "display_data"
    },
    {
     "name": "stdout",
     "output_type": "stream",
     "text": [
      "Model: Random Forest Classifier\n",
      "Accuracy: 0.1971\n"
     ]
    },
    {
     "data": {
      "image/png": "[encoded data removed]",
      "text/plain": [
       "<Figure size 640x480 with 1 Axes>"
      ]
     },
     "metadata": {},
     "output_type": "display_data"
    }
   ],
   "source": [
    "from src.model_evaluation import *\n",
    "\n",
    "model_predictions = [('MLPClassifier', predictions_mlp), ('Random Forest Classifier', predictions_rf)]\n",
    "\n",
    "for model_name, predictions in model_predictions:\n",
    "    evaluate_model_performance(model_name, y_test, predictions, X_test.shape[1], print_accuracy=True)\n",
    "    plot_predictions_distribution(model_name, y_test, predictions)\n"
   ]
  }
 ],
 "metadata": {
  "kernelspec": {
   "display_name": "Python 3",
   "language": "python",
   "name": "python3"
  },
  "language_info": {
   "codemirror_mode": {
    "name": "ipython",
    "version": 3
   },
   "file_extension": ".py",
   "mimetype": "text/x-python",
   "name": "python",
   "nbconvert_exporter": "python",
   "pygments_lexer": "ipython3",
   "version": "3.12.0"
  }
 },
 "nbformat": 4,
 "nbformat_minor": 2
}
